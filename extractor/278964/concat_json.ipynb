{
 "cells": [
  {
   "cell_type": "code",
   "execution_count": 1,
   "metadata": {},
   "outputs": [],
   "source": [
    "import os\n",
    "import json\n",
    "pasta = \"gitlab/csv/\"\n",
    "filenames_ = []\n",
    "for diretorio, subpastas, arquivos in os.walk(pasta):\n",
    "    for arquivo in arquivos:\n",
    "        filenames_.append(str(os.path.join(diretorio, arquivo)))"
   ]
  },
  {
   "cell_type": "code",
   "execution_count": 2,
   "metadata": {},
   "outputs": [
    {
     "data": {
      "text/plain": [
       "196"
      ]
     },
     "execution_count": 2,
     "metadata": {},
     "output_type": "execute_result"
    }
   ],
   "source": [
    "len(filenames_)"
   ]
  },
  {
   "cell_type": "code",
   "execution_count": 3,
   "metadata": {},
   "outputs": [
    {
     "name": "stdout",
     "output_type": "stream",
     "text": [
      "gitlab/csv/gitlab_saida_0.json\n",
      "gitlab/csv/gitlab_saida_1.json\n",
      "gitlab/csv/gitlab_saida_10.json\n",
      "gitlab/csv/gitlab_saida_100.json\n",
      "gitlab/csv/gitlab_saida_101.json\n",
      "gitlab/csv/gitlab_saida_102.json\n",
      "gitlab/csv/gitlab_saida_103.json\n",
      "gitlab/csv/gitlab_saida_104.json\n",
      "gitlab/csv/gitlab_saida_105.json\n",
      "gitlab/csv/gitlab_saida_106.json\n",
      "gitlab/csv/gitlab_saida_107.json\n",
      "gitlab/csv/gitlab_saida_108.json\n",
      "gitlab/csv/gitlab_saida_109.json\n",
      "gitlab/csv/gitlab_saida_11.json\n",
      "gitlab/csv/gitlab_saida_110.json\n",
      "gitlab/csv/gitlab_saida_111.json\n",
      "gitlab/csv/gitlab_saida_112.json\n",
      "gitlab/csv/gitlab_saida_113.json\n",
      "gitlab/csv/gitlab_saida_114.json\n",
      "gitlab/csv/gitlab_saida_115.json\n",
      "gitlab/csv/gitlab_saida_116.json\n",
      "gitlab/csv/gitlab_saida_117.json\n",
      "gitlab/csv/gitlab_saida_118.json\n",
      "gitlab/csv/gitlab_saida_119.json\n",
      "gitlab/csv/gitlab_saida_12.json\n",
      "gitlab/csv/gitlab_saida_120.json\n",
      "gitlab/csv/gitlab_saida_121.json\n",
      "gitlab/csv/gitlab_saida_122.json\n",
      "gitlab/csv/gitlab_saida_123.json\n",
      "gitlab/csv/gitlab_saida_124.json\n",
      "gitlab/csv/gitlab_saida_125.json\n",
      "gitlab/csv/gitlab_saida_126.json\n",
      "gitlab/csv/gitlab_saida_127.json\n",
      "gitlab/csv/gitlab_saida_128.json\n",
      "gitlab/csv/gitlab_saida_129.json\n",
      "gitlab/csv/gitlab_saida_13.json\n",
      "gitlab/csv/gitlab_saida_130.json\n",
      "gitlab/csv/gitlab_saida_131.json\n",
      "gitlab/csv/gitlab_saida_132.json\n",
      "gitlab/csv/gitlab_saida_133.json\n",
      "gitlab/csv/gitlab_saida_134.json\n",
      "gitlab/csv/gitlab_saida_135.json\n",
      "gitlab/csv/gitlab_saida_136.json\n",
      "gitlab/csv/gitlab_saida_137.json\n",
      "gitlab/csv/gitlab_saida_138.json\n",
      "gitlab/csv/gitlab_saida_139.json\n",
      "gitlab/csv/gitlab_saida_14.json\n",
      "gitlab/csv/gitlab_saida_140.json\n",
      "gitlab/csv/gitlab_saida_141.json\n",
      "gitlab/csv/gitlab_saida_142.json\n",
      "gitlab/csv/gitlab_saida_143.json\n",
      "gitlab/csv/gitlab_saida_144.json\n",
      "gitlab/csv/gitlab_saida_145.json\n",
      "gitlab/csv/gitlab_saida_146.json\n",
      "gitlab/csv/gitlab_saida_147.json\n",
      "gitlab/csv/gitlab_saida_148.json\n",
      "gitlab/csv/gitlab_saida_149.json\n",
      "gitlab/csv/gitlab_saida_15.json\n",
      "gitlab/csv/gitlab_saida_150.json\n",
      "gitlab/csv/gitlab_saida_151.json\n",
      "gitlab/csv/gitlab_saida_152.json\n",
      "gitlab/csv/gitlab_saida_153.json\n",
      "gitlab/csv/gitlab_saida_154.json\n",
      "gitlab/csv/gitlab_saida_155.json\n",
      "gitlab/csv/gitlab_saida_156.json\n",
      "gitlab/csv/gitlab_saida_157.json\n",
      "gitlab/csv/gitlab_saida_158.json\n",
      "gitlab/csv/gitlab_saida_159.json\n",
      "gitlab/csv/gitlab_saida_16.json\n",
      "gitlab/csv/gitlab_saida_160.json\n",
      "gitlab/csv/gitlab_saida_161.json\n",
      "gitlab/csv/gitlab_saida_162.json\n",
      "gitlab/csv/gitlab_saida_163.json\n",
      "gitlab/csv/gitlab_saida_164.json\n",
      "gitlab/csv/gitlab_saida_165.json\n",
      "gitlab/csv/gitlab_saida_166.json\n",
      "gitlab/csv/gitlab_saida_167.json\n",
      "gitlab/csv/gitlab_saida_168.json\n",
      "gitlab/csv/gitlab_saida_169.json\n",
      "gitlab/csv/gitlab_saida_17.json\n",
      "gitlab/csv/gitlab_saida_170.json\n",
      "gitlab/csv/gitlab_saida_171.json\n",
      "gitlab/csv/gitlab_saida_173.json\n",
      "gitlab/csv/gitlab_saida_174.json\n",
      "gitlab/csv/gitlab_saida_175.json\n",
      "gitlab/csv/gitlab_saida_176.json\n",
      "gitlab/csv/gitlab_saida_177.json\n",
      "gitlab/csv/gitlab_saida_178.json\n",
      "gitlab/csv/gitlab_saida_179.json\n",
      "gitlab/csv/gitlab_saida_18.json\n",
      "gitlab/csv/gitlab_saida_180.json\n",
      "gitlab/csv/gitlab_saida_181.json\n",
      "gitlab/csv/gitlab_saida_182.json\n",
      "gitlab/csv/gitlab_saida_183.json\n",
      "gitlab/csv/gitlab_saida_184.json\n",
      "gitlab/csv/gitlab_saida_185.json\n",
      "gitlab/csv/gitlab_saida_186.json\n",
      "gitlab/csv/gitlab_saida_187.json\n",
      "gitlab/csv/gitlab_saida_188.json\n",
      "gitlab/csv/gitlab_saida_189.json\n",
      "gitlab/csv/gitlab_saida_19.json\n",
      "gitlab/csv/gitlab_saida_190.json\n",
      "gitlab/csv/gitlab_saida_191.json\n",
      "gitlab/csv/gitlab_saida_192.json\n",
      "gitlab/csv/gitlab_saida_193.json\n",
      "gitlab/csv/gitlab_saida_194.json\n",
      "gitlab/csv/gitlab_saida_195.json\n",
      "gitlab/csv/gitlab_saida_196.json\n",
      "gitlab/csv/gitlab_saida_197.json\n",
      "gitlab/csv/gitlab_saida_2.json\n",
      "gitlab/csv/gitlab_saida_20.json\n",
      "gitlab/csv/gitlab_saida_21.json\n",
      "gitlab/csv/gitlab_saida_22.json\n",
      "gitlab/csv/gitlab_saida_23.json\n",
      "gitlab/csv/gitlab_saida_24.json\n",
      "gitlab/csv/gitlab_saida_25.json\n",
      "gitlab/csv/gitlab_saida_26.json\n",
      "gitlab/csv/gitlab_saida_27.json\n",
      "gitlab/csv/gitlab_saida_28.json\n",
      "gitlab/csv/gitlab_saida_29.json\n",
      "gitlab/csv/gitlab_saida_3.json\n",
      "gitlab/csv/gitlab_saida_30.json\n",
      "gitlab/csv/gitlab_saida_31.json\n",
      "gitlab/csv/gitlab_saida_32.json\n",
      "gitlab/csv/gitlab_saida_33.json\n",
      "gitlab/csv/gitlab_saida_34.json\n",
      "gitlab/csv/gitlab_saida_35.json\n",
      "gitlab/csv/gitlab_saida_36.json\n",
      "gitlab/csv/gitlab_saida_37.json\n",
      "gitlab/csv/gitlab_saida_38.json\n",
      "gitlab/csv/gitlab_saida_39.json\n",
      "gitlab/csv/gitlab_saida_4.json\n",
      "gitlab/csv/gitlab_saida_40.json\n",
      "gitlab/csv/gitlab_saida_41.json\n",
      "gitlab/csv/gitlab_saida_42.json\n",
      "gitlab/csv/gitlab_saida_43.json\n",
      "gitlab/csv/gitlab_saida_44.json\n",
      "gitlab/csv/gitlab_saida_45.json\n",
      "gitlab/csv/gitlab_saida_46.json\n",
      "gitlab/csv/gitlab_saida_47.json\n",
      "gitlab/csv/gitlab_saida_49.json\n",
      "gitlab/csv/gitlab_saida_5.json\n",
      "gitlab/csv/gitlab_saida_50.json\n",
      "gitlab/csv/gitlab_saida_51.json\n",
      "gitlab/csv/gitlab_saida_52.json\n",
      "gitlab/csv/gitlab_saida_53.json\n",
      "gitlab/csv/gitlab_saida_54.json\n",
      "gitlab/csv/gitlab_saida_55.json\n",
      "gitlab/csv/gitlab_saida_56.json\n",
      "gitlab/csv/gitlab_saida_57.json\n",
      "gitlab/csv/gitlab_saida_58.json\n",
      "gitlab/csv/gitlab_saida_59.json\n",
      "gitlab/csv/gitlab_saida_6.json\n",
      "gitlab/csv/gitlab_saida_60.json\n",
      "gitlab/csv/gitlab_saida_61.json\n",
      "gitlab/csv/gitlab_saida_62.json\n",
      "gitlab/csv/gitlab_saida_63.json\n",
      "gitlab/csv/gitlab_saida_64.json\n",
      "gitlab/csv/gitlab_saida_65.json\n",
      "gitlab/csv/gitlab_saida_66.json\n",
      "gitlab/csv/gitlab_saida_67.json\n",
      "gitlab/csv/gitlab_saida_68.json\n",
      "gitlab/csv/gitlab_saida_69.json\n",
      "gitlab/csv/gitlab_saida_7.json\n",
      "gitlab/csv/gitlab_saida_70.json\n",
      "gitlab/csv/gitlab_saida_71.json\n",
      "gitlab/csv/gitlab_saida_72.json\n",
      "gitlab/csv/gitlab_saida_73.json\n",
      "gitlab/csv/gitlab_saida_74.json\n",
      "gitlab/csv/gitlab_saida_75.json\n",
      "gitlab/csv/gitlab_saida_76.json\n",
      "gitlab/csv/gitlab_saida_77.json\n",
      "gitlab/csv/gitlab_saida_78.json\n",
      "gitlab/csv/gitlab_saida_79.json\n",
      "gitlab/csv/gitlab_saida_8.json\n",
      "gitlab/csv/gitlab_saida_80.json\n",
      "gitlab/csv/gitlab_saida_81.json\n",
      "gitlab/csv/gitlab_saida_82.json\n",
      "gitlab/csv/gitlab_saida_83.json\n",
      "gitlab/csv/gitlab_saida_84.json\n",
      "gitlab/csv/gitlab_saida_85.json\n",
      "gitlab/csv/gitlab_saida_86.json\n",
      "gitlab/csv/gitlab_saida_87.json\n",
      "gitlab/csv/gitlab_saida_88.json\n",
      "gitlab/csv/gitlab_saida_89.json\n",
      "gitlab/csv/gitlab_saida_9.json\n",
      "gitlab/csv/gitlab_saida_90.json\n",
      "gitlab/csv/gitlab_saida_91.json\n",
      "gitlab/csv/gitlab_saida_92.json\n",
      "gitlab/csv/gitlab_saida_93.json\n",
      "gitlab/csv/gitlab_saida_94.json\n",
      "gitlab/csv/gitlab_saida_95.json\n",
      "gitlab/csv/gitlab_saida_96.json\n",
      "gitlab/csv/gitlab_saida_97.json\n",
      "gitlab/csv/gitlab_saida_98.json\n",
      "gitlab/csv/gitlab_saida_99.json\n"
     ]
    }
   ],
   "source": [
    "import pandas as pd\n",
    "# 'gitlab_saida_48.json', verificar\n",
    "# 'gitlab_saida_172.json' verificar\n",
    "#st1 = []\n",
    "df_total = pd.DataFrame()\n",
    "for s in filenames_:\n",
    "    print(s)\n",
    "    f = open(s, encoding=\"utf8\") \n",
    "    df = pd.read_json(f)\n",
    "    df_total = pd.concat([df_total, df])"
   ]
  },
  {
   "cell_type": "code",
   "execution_count": 4,
   "metadata": {},
   "outputs": [
    {
     "data": {
      "text/plain": [
       "(19548, 40)"
      ]
     },
     "execution_count": 4,
     "metadata": {},
     "output_type": "execute_result"
    }
   ],
   "source": [
    "df_total.shape"
   ]
  },
  {
   "cell_type": "code",
   "execution_count": 10,
   "metadata": {},
   "outputs": [],
   "source": [
    "df_total.to_json(\"gitlab/csvfinal/gitlab.json\", orient = 'records')"
   ]
  },
  {
   "cell_type": "code",
   "execution_count": 44,
   "metadata": {},
   "outputs": [
    {
     "name": "stderr",
     "output_type": "stream",
     "text": [
      "c:\\Python\\Python310\\lib\\site-packages\\pandas\\core\\tools\\datetimes.py:557: RuntimeWarning: invalid value encountered in cast\n",
      "  arr, tz_parsed = tslib.array_with_unit_to_datetime(arg, unit, errors=errors)\n",
      "c:\\Python\\Python310\\lib\\site-packages\\pandas\\core\\tools\\datetimes.py:557: RuntimeWarning: invalid value encountered in cast\n",
      "  arr, tz_parsed = tslib.array_with_unit_to_datetime(arg, unit, errors=errors)\n"
     ]
    }
   ],
   "source": [
    "df = pd.read_json(\"gitlab/csvfinal/gitlab.json\")\n"
   ]
  },
  {
   "cell_type": "code",
   "execution_count": 45,
   "metadata": {},
   "outputs": [
    {
     "data": {
      "text/plain": [
       "(19548, 40)"
      ]
     },
     "execution_count": 45,
     "metadata": {},
     "output_type": "execute_result"
    }
   ],
   "source": [
    "df.shape"
   ]
  },
  {
   "cell_type": "code",
   "execution_count": 46,
   "metadata": {},
   "outputs": [
    {
     "name": "stdout",
     "output_type": "stream",
     "text": [
      "Index(['id', 'iid', 'project_id', 'title', 'description', 'state',\n",
      "       'created_at', 'updated_at', 'closed_at', 'closed_by', 'labels',\n",
      "       'milestone', 'assignees', 'author', 'type', 'assignee',\n",
      "       'user_notes_count', 'merge_requests_count', 'upvotes', 'downvotes',\n",
      "       'due_date', 'confidential', 'discussion_locked', 'issue_type',\n",
      "       'web_url', 'time_stats', 'task_completion_status', 'weight',\n",
      "       'blocking_issues_count', 'has_tasks', '_links', 'references',\n",
      "       'severity', 'moved_to_id', 'service_desk_reply_to', 'epic_iid', 'epic',\n",
      "       'iteration', 'health_status', 'task_status'],\n",
      "      dtype='object')\n"
     ]
    }
   ],
   "source": [
    "print(df.columns)"
   ]
  },
  {
   "cell_type": "code",
   "execution_count": 47,
   "metadata": {},
   "outputs": [
    {
     "data": {
      "text/plain": [
       "9841     Remove map-get($grid-breakpoints, xs) for max-...\n",
       "12299                      Migrate 2 components to Pajamas\n",
       "18672               ArchiveTraceWorker ignores some errors\n",
       "2863     Add a per instance setting to disable the sugg...\n",
       "2562     Migrate deprecatedModal2 to GlModal in app/ass...\n",
       "4757                     Create Epics from the New... Menu\n",
       "2059     Report combined AMAU for Git write operations ...\n",
       "18432     Add in-page search to Project settings — CI / CD\n",
       "14598    Container registry JWT tokens for internal use...\n",
       "7876     [BE] Improve documentation regarding mutation ...\n",
       "Name: title, dtype: object"
      ]
     },
     "execution_count": 47,
     "metadata": {},
     "output_type": "execute_result"
    }
   ],
   "source": [
    "df[\"title\"].sample(10)"
   ]
  },
  {
   "cell_type": "code",
   "execution_count": 49,
   "metadata": {},
   "outputs": [
    {
     "data": {
      "text/plain": [
       "14464    2\n",
       "16103    2\n",
       "7824     1\n",
       "4688     1\n",
       "18039    1\n",
       "6814     2\n",
       "12035    1\n",
       "12768    2\n",
       "5934     1\n",
       "12482    3\n",
       "Name: weight, dtype: int64"
      ]
     },
     "execution_count": 49,
     "metadata": {},
     "output_type": "execute_result"
    }
   ],
   "source": [
    "df[\"weight\"].sample(10)"
   ]
  },
  {
   "cell_type": "code",
   "execution_count": 50,
   "metadata": {},
   "outputs": [],
   "source": [
    "df = df.rename(columns={\"weight\": 'storypoints'})"
   ]
  },
  {
   "cell_type": "code",
   "execution_count": 52,
   "metadata": {},
   "outputs": [],
   "source": [
    "agrupado = df.groupby([\"storypoints\"]).size()"
   ]
  },
  {
   "cell_type": "code",
   "execution_count": 53,
   "metadata": {},
   "outputs": [],
   "source": [
    "dfagrupado = pd.DataFrame(agrupado)"
   ]
  },
  {
   "cell_type": "code",
   "execution_count": 54,
   "metadata": {},
   "outputs": [],
   "source": [
    "dfagrupado = dfagrupado.rename(columns={0: 'quantidade'})"
   ]
  },
  {
   "cell_type": "code",
   "execution_count": 55,
   "metadata": {},
   "outputs": [
    {
     "data": {
      "text/html": [
       "<div>\n",
       "<style scoped>\n",
       "    .dataframe tbody tr th:only-of-type {\n",
       "        vertical-align: middle;\n",
       "    }\n",
       "\n",
       "    .dataframe tbody tr th {\n",
       "        vertical-align: top;\n",
       "    }\n",
       "\n",
       "    .dataframe thead th {\n",
       "        text-align: right;\n",
       "    }\n",
       "</style>\n",
       "<table border=\"1\" class=\"dataframe\">\n",
       "  <thead>\n",
       "    <tr style=\"text-align: right;\">\n",
       "      <th></th>\n",
       "      <th>quantidade</th>\n",
       "    </tr>\n",
       "    <tr>\n",
       "      <th>storypoints</th>\n",
       "      <th></th>\n",
       "    </tr>\n",
       "  </thead>\n",
       "  <tbody>\n",
       "    <tr>\n",
       "      <th>0</th>\n",
       "      <td>119</td>\n",
       "    </tr>\n",
       "    <tr>\n",
       "      <th>1</th>\n",
       "      <td>7747</td>\n",
       "    </tr>\n",
       "    <tr>\n",
       "      <th>2</th>\n",
       "      <td>6048</td>\n",
       "    </tr>\n",
       "    <tr>\n",
       "      <th>3</th>\n",
       "      <td>3856</td>\n",
       "    </tr>\n",
       "    <tr>\n",
       "      <th>4</th>\n",
       "      <td>317</td>\n",
       "    </tr>\n",
       "    <tr>\n",
       "      <th>5</th>\n",
       "      <td>1122</td>\n",
       "    </tr>\n",
       "    <tr>\n",
       "      <th>6</th>\n",
       "      <td>68</td>\n",
       "    </tr>\n",
       "    <tr>\n",
       "      <th>7</th>\n",
       "      <td>23</td>\n",
       "    </tr>\n",
       "    <tr>\n",
       "      <th>8</th>\n",
       "      <td>173</td>\n",
       "    </tr>\n",
       "    <tr>\n",
       "      <th>9</th>\n",
       "      <td>16</td>\n",
       "    </tr>\n",
       "    <tr>\n",
       "      <th>10</th>\n",
       "      <td>25</td>\n",
       "    </tr>\n",
       "    <tr>\n",
       "      <th>11</th>\n",
       "      <td>2</td>\n",
       "    </tr>\n",
       "    <tr>\n",
       "      <th>13</th>\n",
       "      <td>26</td>\n",
       "    </tr>\n",
       "    <tr>\n",
       "      <th>15</th>\n",
       "      <td>2</td>\n",
       "    </tr>\n",
       "    <tr>\n",
       "      <th>20</th>\n",
       "      <td>1</td>\n",
       "    </tr>\n",
       "    <tr>\n",
       "      <th>30</th>\n",
       "      <td>1</td>\n",
       "    </tr>\n",
       "    <tr>\n",
       "      <th>34</th>\n",
       "      <td>1</td>\n",
       "    </tr>\n",
       "    <tr>\n",
       "      <th>160</th>\n",
       "      <td>1</td>\n",
       "    </tr>\n",
       "  </tbody>\n",
       "</table>\n",
       "</div>"
      ],
      "text/plain": [
       "             quantidade\n",
       "storypoints            \n",
       "0                   119\n",
       "1                  7747\n",
       "2                  6048\n",
       "3                  3856\n",
       "4                   317\n",
       "5                  1122\n",
       "6                    68\n",
       "7                    23\n",
       "8                   173\n",
       "9                    16\n",
       "10                   25\n",
       "11                    2\n",
       "13                   26\n",
       "15                    2\n",
       "20                    1\n",
       "30                    1\n",
       "34                    1\n",
       "160                   1"
      ]
     },
     "execution_count": 55,
     "metadata": {},
     "output_type": "execute_result"
    }
   ],
   "source": [
    "dfagrupado"
   ]
  },
  {
   "cell_type": "code",
   "execution_count": 43,
   "metadata": {},
   "outputs": [
    {
     "ename": "NameError",
     "evalue": "name 'weight' is not defined",
     "output_type": "error",
     "traceback": [
      "\u001b[1;31m---------------------------------------------------------------------------\u001b[0m",
      "\u001b[1;31mNameError\u001b[0m                                 Traceback (most recent call last)",
      "Cell \u001b[1;32mIn [43], line 1\u001b[0m\n\u001b[1;32m----> 1\u001b[0m dfagrupado \u001b[39m=\u001b[39m dfagrupado\u001b[39m.\u001b[39mrename(columns\u001b[39m=\u001b[39m{weight: \u001b[39m'\u001b[39m\u001b[39mstorypoints\u001b[39m\u001b[39m'\u001b[39m})\n",
      "\u001b[1;31mNameError\u001b[0m: name 'weight' is not defined"
     ]
    }
   ],
   "source": [
    "dfagrupado = dfagrupado.rename(columns={'weight': 'storypoints'})"
   ]
  },
  {
   "cell_type": "code",
   "execution_count": 41,
   "metadata": {},
   "outputs": [
    {
     "data": {
      "text/html": [
       "<div>\n",
       "<style scoped>\n",
       "    .dataframe tbody tr th:only-of-type {\n",
       "        vertical-align: middle;\n",
       "    }\n",
       "\n",
       "    .dataframe tbody tr th {\n",
       "        vertical-align: top;\n",
       "    }\n",
       "\n",
       "    .dataframe thead th {\n",
       "        text-align: right;\n",
       "    }\n",
       "</style>\n",
       "<table border=\"1\" class=\"dataframe\">\n",
       "  <thead>\n",
       "    <tr style=\"text-align: right;\">\n",
       "      <th></th>\n",
       "      <th>quantidade</th>\n",
       "    </tr>\n",
       "    <tr>\n",
       "      <th>weight</th>\n",
       "      <th></th>\n",
       "    </tr>\n",
       "  </thead>\n",
       "  <tbody>\n",
       "    <tr>\n",
       "      <th>0</th>\n",
       "      <td>119</td>\n",
       "    </tr>\n",
       "    <tr>\n",
       "      <th>1</th>\n",
       "      <td>7747</td>\n",
       "    </tr>\n",
       "    <tr>\n",
       "      <th>2</th>\n",
       "      <td>6048</td>\n",
       "    </tr>\n",
       "    <tr>\n",
       "      <th>3</th>\n",
       "      <td>3856</td>\n",
       "    </tr>\n",
       "    <tr>\n",
       "      <th>4</th>\n",
       "      <td>317</td>\n",
       "    </tr>\n",
       "    <tr>\n",
       "      <th>5</th>\n",
       "      <td>1122</td>\n",
       "    </tr>\n",
       "    <tr>\n",
       "      <th>6</th>\n",
       "      <td>68</td>\n",
       "    </tr>\n",
       "    <tr>\n",
       "      <th>7</th>\n",
       "      <td>23</td>\n",
       "    </tr>\n",
       "    <tr>\n",
       "      <th>8</th>\n",
       "      <td>173</td>\n",
       "    </tr>\n",
       "    <tr>\n",
       "      <th>9</th>\n",
       "      <td>16</td>\n",
       "    </tr>\n",
       "    <tr>\n",
       "      <th>10</th>\n",
       "      <td>25</td>\n",
       "    </tr>\n",
       "    <tr>\n",
       "      <th>11</th>\n",
       "      <td>2</td>\n",
       "    </tr>\n",
       "    <tr>\n",
       "      <th>13</th>\n",
       "      <td>26</td>\n",
       "    </tr>\n",
       "    <tr>\n",
       "      <th>15</th>\n",
       "      <td>2</td>\n",
       "    </tr>\n",
       "    <tr>\n",
       "      <th>20</th>\n",
       "      <td>1</td>\n",
       "    </tr>\n",
       "    <tr>\n",
       "      <th>30</th>\n",
       "      <td>1</td>\n",
       "    </tr>\n",
       "    <tr>\n",
       "      <th>34</th>\n",
       "      <td>1</td>\n",
       "    </tr>\n",
       "    <tr>\n",
       "      <th>160</th>\n",
       "      <td>1</td>\n",
       "    </tr>\n",
       "  </tbody>\n",
       "</table>\n",
       "</div>"
      ],
      "text/plain": [
       "        quantidade\n",
       "weight            \n",
       "0              119\n",
       "1             7747\n",
       "2             6048\n",
       "3             3856\n",
       "4              317\n",
       "5             1122\n",
       "6               68\n",
       "7               23\n",
       "8              173\n",
       "9               16\n",
       "10              25\n",
       "11               2\n",
       "13              26\n",
       "15               2\n",
       "20               1\n",
       "30               1\n",
       "34               1\n",
       "160              1"
      ]
     },
     "execution_count": 41,
     "metadata": {},
     "output_type": "execute_result"
    }
   ],
   "source": [
    "dfagrupado"
   ]
  },
  {
   "cell_type": "code",
   "execution_count": null,
   "metadata": {},
   "outputs": [],
   "source": []
  }
 ],
 "metadata": {
  "kernelspec": {
   "display_name": "Python 3",
   "language": "python",
   "name": "python3"
  },
  "language_info": {
   "codemirror_mode": {
    "name": "ipython",
    "version": 3
   },
   "file_extension": ".py",
   "mimetype": "text/x-python",
   "name": "python",
   "nbconvert_exporter": "python",
   "pygments_lexer": "ipython3",
   "version": "3.10.9 (tags/v3.10.9:1dd9be6, Dec  6 2022, 20:01:21) [MSC v.1934 64 bit (AMD64)]"
  },
  "orig_nbformat": 4,
  "vscode": {
   "interpreter": {
    "hash": "d3e10ef16274dd72e574b8fa73b58450b957d8421a2901baded3cca26fcf5dda"
   }
  }
 },
 "nbformat": 4,
 "nbformat_minor": 2
}
