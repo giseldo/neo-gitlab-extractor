{
 "cells": [
  {
   "cell_type": "code",
   "execution_count": 5,
   "metadata": {},
   "outputs": [],
   "source": [
    "#!pip install requests\n",
    "\n",
    "import requests"
   ]
  },
  {
   "cell_type": "code",
   "execution_count": 31,
   "metadata": {},
   "outputs": [],
   "source": [
    "url = \"https://gitlab.com/api/v4/projects/gitlab-org%2Fgitlab/issues?id=gitlab-org%2Fgitlab&order_by=created_at&page=2&per_page=100&sort=desc&state=closed&weight=2&with_labels_details=false\"\n",
    "\n",
    "response = requests.head(url)\n",
    "\n",
    "links = response.headers['link']"
   ]
  },
  {
   "cell_type": "code",
   "execution_count": 33,
   "metadata": {},
   "outputs": [
    {
     "data": {
      "text/plain": [
       "'<https://gitlab.com/api/v4/projects/gitlab-org%2Fgitlab/issues?id=gitlab-org%2Fgitlab&order_by=created_at&page=1&per_page=100&sort=desc&state=closed&weight=2&with_labels_details=false>; rel=\"prev\", <https://gitlab.com/api/v4/projects/gitlab-org%2Fgitlab/issues?id=gitlab-org%2Fgitlab&order_by=created_at&page=3&per_page=100&sort=desc&state=closed&weight=2&with_labels_details=false>; rel=\"next\", <https://gitlab.com/api/v4/projects/gitlab-org%2Fgitlab/issues?id=gitlab-org%2Fgitlab&order_by=created_at&page=1&per_page=100&sort=desc&state=closed&weight=2&with_labels_details=false>; rel=\"first\", <https://gitlab.com/api/v4/projects/gitlab-org%2Fgitlab/issues?id=gitlab-org%2Fgitlab&order_by=created_at&page=61&per_page=100&sort=desc&state=closed&weight=2&with_labels_details=false>; rel=\"last\"'"
      ]
     },
     "execution_count": 33,
     "metadata": {},
     "output_type": "execute_result"
    }
   ],
   "source": [
    "links"
   ]
  },
  {
   "cell_type": "code",
   "execution_count": 34,
   "metadata": {},
   "outputs": [],
   "source": [
    "links_ant_prox_ult = links.split(\",\")"
   ]
  },
  {
   "cell_type": "code",
   "execution_count": 35,
   "metadata": {},
   "outputs": [
    {
     "data": {
      "text/plain": [
       "['<https://gitlab.com/api/v4/projects/gitlab-org%2Fgitlab/issues?id=gitlab-org%2Fgitlab&order_by=created_at&page=1&per_page=100&sort=desc&state=closed&weight=2&with_labels_details=false>; rel=\"prev\"',\n",
       " ' <https://gitlab.com/api/v4/projects/gitlab-org%2Fgitlab/issues?id=gitlab-org%2Fgitlab&order_by=created_at&page=3&per_page=100&sort=desc&state=closed&weight=2&with_labels_details=false>; rel=\"next\"',\n",
       " ' <https://gitlab.com/api/v4/projects/gitlab-org%2Fgitlab/issues?id=gitlab-org%2Fgitlab&order_by=created_at&page=1&per_page=100&sort=desc&state=closed&weight=2&with_labels_details=false>; rel=\"first\"',\n",
       " ' <https://gitlab.com/api/v4/projects/gitlab-org%2Fgitlab/issues?id=gitlab-org%2Fgitlab&order_by=created_at&page=61&per_page=100&sort=desc&state=closed&weight=2&with_labels_details=false>; rel=\"last\"']"
      ]
     },
     "execution_count": 35,
     "metadata": {},
     "output_type": "execute_result"
    }
   ],
   "source": [
    "links_ant_prox_ult"
   ]
  },
  {
   "cell_type": "code",
   "execution_count": 61,
   "metadata": {},
   "outputs": [],
   "source": [
    "lista_url =list()\n",
    "\n",
    "import pandas as pd\n",
    "\n",
    "df = dict()\n",
    "\n",
    "for l in links_ant_prox_ult:\n",
    "    ls = l.split(\";\")\n",
    "    url = ls[0]\n",
    "    typ = ls[1].replace(\"rel=\", \"\").replace(\"\\\"\",\"\").replace(\" \", \"\")\n",
    "    df[typ] = url\n",
    "    "
   ]
  },
  {
   "cell_type": "code",
   "execution_count": 62,
   "metadata": {},
   "outputs": [
    {
     "data": {
      "text/plain": [
       "{'prev': '<https://gitlab.com/api/v4/projects/gitlab-org%2Fgitlab/issues?id=gitlab-org%2Fgitlab&order_by=created_at&page=1&per_page=100&sort=desc&state=closed&weight=2&with_labels_details=false>',\n",
       " 'next': ' <https://gitlab.com/api/v4/projects/gitlab-org%2Fgitlab/issues?id=gitlab-org%2Fgitlab&order_by=created_at&page=3&per_page=100&sort=desc&state=closed&weight=2&with_labels_details=false>',\n",
       " 'first': ' <https://gitlab.com/api/v4/projects/gitlab-org%2Fgitlab/issues?id=gitlab-org%2Fgitlab&order_by=created_at&page=1&per_page=100&sort=desc&state=closed&weight=2&with_labels_details=false>',\n",
       " 'last': ' <https://gitlab.com/api/v4/projects/gitlab-org%2Fgitlab/issues?id=gitlab-org%2Fgitlab&order_by=created_at&page=61&per_page=100&sort=desc&state=closed&weight=2&with_labels_details=false>'}"
      ]
     },
     "execution_count": 62,
     "metadata": {},
     "output_type": "execute_result"
    }
   ],
   "source": [
    "df"
   ]
  },
  {
   "cell_type": "code",
   "execution_count": 64,
   "metadata": {},
   "outputs": [
    {
     "data": {
      "text/plain": [
       "' <https://gitlab.com/api/v4/projects/gitlab-org%2Fgitlab/issues?id=gitlab-org%2Fgitlab&order_by=created_at&page=3&per_page=100&sort=desc&state=closed&weight=2&with_labels_details=false>'"
      ]
     },
     "execution_count": 64,
     "metadata": {},
     "output_type": "execute_result"
    }
   ],
   "source": [
    "df[\"next\"]"
   ]
  },
  {
   "cell_type": "code",
   "execution_count": 37,
   "metadata": {},
   "outputs": [
    {
     "data": {
      "text/plain": [
       "['<https://gitlab.com/api/v4/projects/gitlab-org%2Fgitlab/issues?id=gitlab-org%2Fgitlab&order_by=created_at&page=1&per_page=100&sort=desc&state=closed&weight=2&with_labels_details=false>',\n",
       " ' <https://gitlab.com/api/v4/projects/gitlab-org%2Fgitlab/issues?id=gitlab-org%2Fgitlab&order_by=created_at&page=3&per_page=100&sort=desc&state=closed&weight=2&with_labels_details=false>',\n",
       " ' <https://gitlab.com/api/v4/projects/gitlab-org%2Fgitlab/issues?id=gitlab-org%2Fgitlab&order_by=created_at&page=1&per_page=100&sort=desc&state=closed&weight=2&with_labels_details=false>',\n",
       " ' <https://gitlab.com/api/v4/projects/gitlab-org%2Fgitlab/issues?id=gitlab-org%2Fgitlab&order_by=created_at&page=61&per_page=100&sort=desc&state=closed&weight=2&with_labels_details=false>']"
      ]
     },
     "execution_count": 37,
     "metadata": {},
     "output_type": "execute_result"
    }
   ],
   "source": [
    "lista_url"
   ]
  },
  {
   "cell_type": "code",
   "execution_count": 25,
   "metadata": {},
   "outputs": [],
   "source": [
    "url_nex = lista_url[0]\n",
    "url_actual = lista_url[1]\n",
    "url_last = lista_url[2]"
   ]
  },
  {
   "cell_type": "code",
   "execution_count": 29,
   "metadata": {},
   "outputs": [],
   "source": [
    "url_nex = url_nex.removeprefix(\"<\")\n",
    "url_nex = url_nex.removesuffix(\">\")"
   ]
  },
  {
   "cell_type": "code",
   "execution_count": null,
   "metadata": {},
   "outputs": [],
   "source": [
    "url_nex.re"
   ]
  },
  {
   "cell_type": "code",
   "execution_count": 30,
   "metadata": {},
   "outputs": [
    {
     "data": {
      "text/plain": [
       "'https://gitlab.com/api/v4/projects/gitlab-org%2Fgitlab/issues?first_page_size=100&id=gitlab-org%2Fgitlab&order_by=created_at&page=2&per_page=20&sort=desc&state=closed&weight=2&with_labels_details=false'"
      ]
     },
     "execution_count": 30,
     "metadata": {},
     "output_type": "execute_result"
    }
   ],
   "source": [
    "url_nex"
   ]
  },
  {
   "cell_type": "code",
   "execution_count": 13,
   "metadata": {},
   "outputs": [
    {
     "data": {
      "text/plain": [
       "3"
      ]
     },
     "execution_count": 13,
     "metadata": {},
     "output_type": "execute_result"
    }
   ],
   "source": [
    "len(l)"
   ]
  }
 ],
 "metadata": {
  "kernelspec": {
   "display_name": "Python 3",
   "language": "python",
   "name": "python3"
  },
  "language_info": {
   "codemirror_mode": {
    "name": "ipython",
    "version": 3
   },
   "file_extension": ".py",
   "mimetype": "text/x-python",
   "name": "python",
   "nbconvert_exporter": "python",
   "pygments_lexer": "ipython3",
   "version": "3.10.9 (tags/v3.10.9:1dd9be6, Dec  6 2022, 20:01:21) [MSC v.1934 64 bit (AMD64)]"
  },
  "orig_nbformat": 4,
  "vscode": {
   "interpreter": {
    "hash": "d3e10ef16274dd72e574b8fa73b58450b957d8421a2901baded3cca26fcf5dda"
   }
  }
 },
 "nbformat": 4,
 "nbformat_minor": 2
}
