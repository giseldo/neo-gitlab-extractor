{
 "cells": [
  {
   "cell_type": "code",
   "execution_count": 1,
   "metadata": {},
   "outputs": [],
   "source": [
    "import os\n",
    "import json\n",
    "pasta = os.getcwd() +\"\\\\json_export\\\\\"\n",
    "filenames_ = []\n",
    "for diretorio, subpastas, arquivos in os.walk(pasta):\n",
    "    for arquivo in arquivos:\n",
    "        filenames_.append(str(os.path.join(diretorio, arquivo)))"
   ]
  },
  {
   "cell_type": "code",
   "execution_count": 2,
   "metadata": {},
   "outputs": [
    {
     "data": {
      "text/plain": [
       "['c:\\\\Projetos\\\\GIGI_GITLAB_EXTRACTOR\\\\extractor\\\\src_kicad\\\\json_export\\\\teste-saida-pag-1.json',\n",
       " 'c:\\\\Projetos\\\\GIGI_GITLAB_EXTRACTOR\\\\extractor\\\\src_kicad\\\\json_export\\\\teste-saida-pag-10.json',\n",
       " 'c:\\\\Projetos\\\\GIGI_GITLAB_EXTRACTOR\\\\extractor\\\\src_kicad\\\\json_export\\\\teste-saida-pag-11.json',\n",
       " 'c:\\\\Projetos\\\\GIGI_GITLAB_EXTRACTOR\\\\extractor\\\\src_kicad\\\\json_export\\\\teste-saida-pag-12.json',\n",
       " 'c:\\\\Projetos\\\\GIGI_GITLAB_EXTRACTOR\\\\extractor\\\\src_kicad\\\\json_export\\\\teste-saida-pag-13.json',\n",
       " 'c:\\\\Projetos\\\\GIGI_GITLAB_EXTRACTOR\\\\extractor\\\\src_kicad\\\\json_export\\\\teste-saida-pag-14.json',\n",
       " 'c:\\\\Projetos\\\\GIGI_GITLAB_EXTRACTOR\\\\extractor\\\\src_kicad\\\\json_export\\\\teste-saida-pag-15.json',\n",
       " 'c:\\\\Projetos\\\\GIGI_GITLAB_EXTRACTOR\\\\extractor\\\\src_kicad\\\\json_export\\\\teste-saida-pag-16.json',\n",
       " 'c:\\\\Projetos\\\\GIGI_GITLAB_EXTRACTOR\\\\extractor\\\\src_kicad\\\\json_export\\\\teste-saida-pag-17.json',\n",
       " 'c:\\\\Projetos\\\\GIGI_GITLAB_EXTRACTOR\\\\extractor\\\\src_kicad\\\\json_export\\\\teste-saida-pag-18.json',\n",
       " 'c:\\\\Projetos\\\\GIGI_GITLAB_EXTRACTOR\\\\extractor\\\\src_kicad\\\\json_export\\\\teste-saida-pag-19.json',\n",
       " 'c:\\\\Projetos\\\\GIGI_GITLAB_EXTRACTOR\\\\extractor\\\\src_kicad\\\\json_export\\\\teste-saida-pag-2.json',\n",
       " 'c:\\\\Projetos\\\\GIGI_GITLAB_EXTRACTOR\\\\extractor\\\\src_kicad\\\\json_export\\\\teste-saida-pag-20.json',\n",
       " 'c:\\\\Projetos\\\\GIGI_GITLAB_EXTRACTOR\\\\extractor\\\\src_kicad\\\\json_export\\\\teste-saida-pag-21.json',\n",
       " 'c:\\\\Projetos\\\\GIGI_GITLAB_EXTRACTOR\\\\extractor\\\\src_kicad\\\\json_export\\\\teste-saida-pag-22.json',\n",
       " 'c:\\\\Projetos\\\\GIGI_GITLAB_EXTRACTOR\\\\extractor\\\\src_kicad\\\\json_export\\\\teste-saida-pag-23.json',\n",
       " 'c:\\\\Projetos\\\\GIGI_GITLAB_EXTRACTOR\\\\extractor\\\\src_kicad\\\\json_export\\\\teste-saida-pag-24.json',\n",
       " 'c:\\\\Projetos\\\\GIGI_GITLAB_EXTRACTOR\\\\extractor\\\\src_kicad\\\\json_export\\\\teste-saida-pag-25.json',\n",
       " 'c:\\\\Projetos\\\\GIGI_GITLAB_EXTRACTOR\\\\extractor\\\\src_kicad\\\\json_export\\\\teste-saida-pag-26.json',\n",
       " 'c:\\\\Projetos\\\\GIGI_GITLAB_EXTRACTOR\\\\extractor\\\\src_kicad\\\\json_export\\\\teste-saida-pag-27.json',\n",
       " 'c:\\\\Projetos\\\\GIGI_GITLAB_EXTRACTOR\\\\extractor\\\\src_kicad\\\\json_export\\\\teste-saida-pag-28.json',\n",
       " 'c:\\\\Projetos\\\\GIGI_GITLAB_EXTRACTOR\\\\extractor\\\\src_kicad\\\\json_export\\\\teste-saida-pag-29.json',\n",
       " 'c:\\\\Projetos\\\\GIGI_GITLAB_EXTRACTOR\\\\extractor\\\\src_kicad\\\\json_export\\\\teste-saida-pag-3.json',\n",
       " 'c:\\\\Projetos\\\\GIGI_GITLAB_EXTRACTOR\\\\extractor\\\\src_kicad\\\\json_export\\\\teste-saida-pag-30.json',\n",
       " 'c:\\\\Projetos\\\\GIGI_GITLAB_EXTRACTOR\\\\extractor\\\\src_kicad\\\\json_export\\\\teste-saida-pag-31.json',\n",
       " 'c:\\\\Projetos\\\\GIGI_GITLAB_EXTRACTOR\\\\extractor\\\\src_kicad\\\\json_export\\\\teste-saida-pag-32.json',\n",
       " 'c:\\\\Projetos\\\\GIGI_GITLAB_EXTRACTOR\\\\extractor\\\\src_kicad\\\\json_export\\\\teste-saida-pag-33.json',\n",
       " 'c:\\\\Projetos\\\\GIGI_GITLAB_EXTRACTOR\\\\extractor\\\\src_kicad\\\\json_export\\\\teste-saida-pag-34.json',\n",
       " 'c:\\\\Projetos\\\\GIGI_GITLAB_EXTRACTOR\\\\extractor\\\\src_kicad\\\\json_export\\\\teste-saida-pag-4.json',\n",
       " 'c:\\\\Projetos\\\\GIGI_GITLAB_EXTRACTOR\\\\extractor\\\\src_kicad\\\\json_export\\\\teste-saida-pag-5.json',\n",
       " 'c:\\\\Projetos\\\\GIGI_GITLAB_EXTRACTOR\\\\extractor\\\\src_kicad\\\\json_export\\\\teste-saida-pag-6.json',\n",
       " 'c:\\\\Projetos\\\\GIGI_GITLAB_EXTRACTOR\\\\extractor\\\\src_kicad\\\\json_export\\\\teste-saida-pag-7.json',\n",
       " 'c:\\\\Projetos\\\\GIGI_GITLAB_EXTRACTOR\\\\extractor\\\\src_kicad\\\\json_export\\\\teste-saida-pag-8.json',\n",
       " 'c:\\\\Projetos\\\\GIGI_GITLAB_EXTRACTOR\\\\extractor\\\\src_kicad\\\\json_export\\\\teste-saida-pag-9.json']"
      ]
     },
     "execution_count": 2,
     "metadata": {},
     "output_type": "execute_result"
    }
   ],
   "source": [
    "filenames_"
   ]
  },
  {
   "cell_type": "code",
   "execution_count": 3,
   "metadata": {},
   "outputs": [
    {
     "name": "stdout",
     "output_type": "stream",
     "text": [
      "c:\\Projetos\\GIGI_GITLAB_EXTRACTOR\\extractor\\src_kicad\\json_export\\teste-saida-pag-1.json\n",
      "c:\\Projetos\\GIGI_GITLAB_EXTRACTOR\\extractor\\src_kicad\\json_export\\teste-saida-pag-10.json\n",
      "c:\\Projetos\\GIGI_GITLAB_EXTRACTOR\\extractor\\src_kicad\\json_export\\teste-saida-pag-11.json\n",
      "c:\\Projetos\\GIGI_GITLAB_EXTRACTOR\\extractor\\src_kicad\\json_export\\teste-saida-pag-12.json\n",
      "c:\\Projetos\\GIGI_GITLAB_EXTRACTOR\\extractor\\src_kicad\\json_export\\teste-saida-pag-13.json\n",
      "c:\\Projetos\\GIGI_GITLAB_EXTRACTOR\\extractor\\src_kicad\\json_export\\teste-saida-pag-14.json\n",
      "c:\\Projetos\\GIGI_GITLAB_EXTRACTOR\\extractor\\src_kicad\\json_export\\teste-saida-pag-15.json\n",
      "c:\\Projetos\\GIGI_GITLAB_EXTRACTOR\\extractor\\src_kicad\\json_export\\teste-saida-pag-16.json\n",
      "c:\\Projetos\\GIGI_GITLAB_EXTRACTOR\\extractor\\src_kicad\\json_export\\teste-saida-pag-17.json\n",
      "c:\\Projetos\\GIGI_GITLAB_EXTRACTOR\\extractor\\src_kicad\\json_export\\teste-saida-pag-18.json\n",
      "c:\\Projetos\\GIGI_GITLAB_EXTRACTOR\\extractor\\src_kicad\\json_export\\teste-saida-pag-19.json\n",
      "c:\\Projetos\\GIGI_GITLAB_EXTRACTOR\\extractor\\src_kicad\\json_export\\teste-saida-pag-2.json\n",
      "c:\\Projetos\\GIGI_GITLAB_EXTRACTOR\\extractor\\src_kicad\\json_export\\teste-saida-pag-20.json\n",
      "c:\\Projetos\\GIGI_GITLAB_EXTRACTOR\\extractor\\src_kicad\\json_export\\teste-saida-pag-21.json\n",
      "c:\\Projetos\\GIGI_GITLAB_EXTRACTOR\\extractor\\src_kicad\\json_export\\teste-saida-pag-22.json\n",
      "c:\\Projetos\\GIGI_GITLAB_EXTRACTOR\\extractor\\src_kicad\\json_export\\teste-saida-pag-23.json\n",
      "c:\\Projetos\\GIGI_GITLAB_EXTRACTOR\\extractor\\src_kicad\\json_export\\teste-saida-pag-24.json\n",
      "c:\\Projetos\\GIGI_GITLAB_EXTRACTOR\\extractor\\src_kicad\\json_export\\teste-saida-pag-25.json\n",
      "c:\\Projetos\\GIGI_GITLAB_EXTRACTOR\\extractor\\src_kicad\\json_export\\teste-saida-pag-26.json\n",
      "c:\\Projetos\\GIGI_GITLAB_EXTRACTOR\\extractor\\src_kicad\\json_export\\teste-saida-pag-27.json\n",
      "c:\\Projetos\\GIGI_GITLAB_EXTRACTOR\\extractor\\src_kicad\\json_export\\teste-saida-pag-28.json\n",
      "c:\\Projetos\\GIGI_GITLAB_EXTRACTOR\\extractor\\src_kicad\\json_export\\teste-saida-pag-29.json\n",
      "c:\\Projetos\\GIGI_GITLAB_EXTRACTOR\\extractor\\src_kicad\\json_export\\teste-saida-pag-3.json\n",
      "c:\\Projetos\\GIGI_GITLAB_EXTRACTOR\\extractor\\src_kicad\\json_export\\teste-saida-pag-30.json\n",
      "c:\\Projetos\\GIGI_GITLAB_EXTRACTOR\\extractor\\src_kicad\\json_export\\teste-saida-pag-31.json\n",
      "c:\\Projetos\\GIGI_GITLAB_EXTRACTOR\\extractor\\src_kicad\\json_export\\teste-saida-pag-32.json\n",
      "c:\\Projetos\\GIGI_GITLAB_EXTRACTOR\\extractor\\src_kicad\\json_export\\teste-saida-pag-33.json\n",
      "c:\\Projetos\\GIGI_GITLAB_EXTRACTOR\\extractor\\src_kicad\\json_export\\teste-saida-pag-34.json\n",
      "c:\\Projetos\\GIGI_GITLAB_EXTRACTOR\\extractor\\src_kicad\\json_export\\teste-saida-pag-4.json\n",
      "c:\\Projetos\\GIGI_GITLAB_EXTRACTOR\\extractor\\src_kicad\\json_export\\teste-saida-pag-5.json\n",
      "c:\\Projetos\\GIGI_GITLAB_EXTRACTOR\\extractor\\src_kicad\\json_export\\teste-saida-pag-6.json\n",
      "c:\\Projetos\\GIGI_GITLAB_EXTRACTOR\\extractor\\src_kicad\\json_export\\teste-saida-pag-7.json\n",
      "c:\\Projetos\\GIGI_GITLAB_EXTRACTOR\\extractor\\src_kicad\\json_export\\teste-saida-pag-8.json\n",
      "c:\\Projetos\\GIGI_GITLAB_EXTRACTOR\\extractor\\src_kicad\\json_export\\teste-saida-pag-9.json\n"
     ]
    }
   ],
   "source": [
    "import pandas as pd\n",
    "\n",
    "df_total = pd.DataFrame()\n",
    "for s in filenames_:\n",
    "    print(s)\n",
    "    f = open(s, encoding=\"utf8\") \n",
    "    df = pd.read_json(f)\n",
    "    df_total = pd.concat([df_total, df])"
   ]
  },
  {
   "cell_type": "code",
   "execution_count": 4,
   "metadata": {},
   "outputs": [
    {
     "data": {
      "text/plain": [
       "(3284, 40)"
      ]
     },
     "execution_count": 4,
     "metadata": {},
     "output_type": "execute_result"
    }
   ],
   "source": [
    "df_total.shape"
   ]
  },
  {
   "cell_type": "code",
   "execution_count": 5,
   "metadata": {},
   "outputs": [],
   "source": [
    "df_total.to_json(pasta + \"/final.json\", orient = 'records')"
   ]
  },
  {
   "cell_type": "code",
   "execution_count": null,
   "metadata": {},
   "outputs": [],
   "source": []
  }
 ],
 "metadata": {
  "kernelspec": {
   "display_name": "Python 3",
   "language": "python",
   "name": "python3"
  },
  "language_info": {
   "codemirror_mode": {
    "name": "ipython",
    "version": 3
   },
   "file_extension": ".py",
   "mimetype": "text/x-python",
   "name": "python",
   "nbconvert_exporter": "python",
   "pygments_lexer": "ipython3",
   "version": "3.10.11"
  },
  "orig_nbformat": 4
 },
 "nbformat": 4,
 "nbformat_minor": 2
}
