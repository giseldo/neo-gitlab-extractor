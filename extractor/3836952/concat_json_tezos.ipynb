{
 "cells": [
  {
   "cell_type": "code",
   "execution_count": 6,
   "metadata": {},
   "outputs": [],
   "source": [
    "import os\n",
    "import json\n",
    "pasta = os.getcwd() +\"/json_export/\"\n",
    "filenames_ = []\n",
    "for diretorio, subpastas, arquivos in os.walk(pasta):\n",
    "    for arquivo in arquivos:\n",
    "        filenames_.append(str(os.path.join(diretorio, arquivo)))"
   ]
  },
  {
   "cell_type": "code",
   "execution_count": 12,
   "metadata": {},
   "outputs": [
    {
     "name": "stdout",
     "output_type": "stream",
     "text": [
      "/home/giseldo/Projetos/gigi-gitlab-extractor/extractor/src_tezos/json_export/saida-pag-2.json\n",
      "/home/giseldo/Projetos/gigi-gitlab-extractor/extractor/src_tezos/json_export/saida-pag-1.json\n"
     ]
    }
   ],
   "source": [
    "import pandas as pd\n",
    "\n",
    "df_total = pd.DataFrame()\n",
    "for s in filenames_:\n",
    "    print(s)\n",
    "    f = open(s, encoding=\"utf8\") \n",
    "    df = pd.read_json(f)\n",
    "    df_total = pd.concat([df_total, df])"
   ]
  },
  {
   "cell_type": "code",
   "execution_count": 13,
   "metadata": {},
   "outputs": [
    {
     "data": {
      "text/plain": [
       "(103, 40)"
      ]
     },
     "execution_count": 13,
     "metadata": {},
     "output_type": "execute_result"
    }
   ],
   "source": [
    "df_total.shape"
   ]
  },
  {
   "cell_type": "code",
   "execution_count": 14,
   "metadata": {},
   "outputs": [],
   "source": [
    "df_total.to_json(pasta + \"/final.json\", orient = 'records')"
   ]
  },
  {
   "cell_type": "code",
   "execution_count": null,
   "metadata": {},
   "outputs": [],
   "source": []
  }
 ],
 "metadata": {
  "kernelspec": {
   "display_name": "Python 3",
   "language": "python",
   "name": "python3"
  },
  "language_info": {
   "codemirror_mode": {
    "name": "ipython",
    "version": 3
   },
   "file_extension": ".py",
   "mimetype": "text/x-python",
   "name": "python",
   "nbconvert_exporter": "python",
   "pygments_lexer": "ipython3",
   "version": "3.10.6"
  },
  "orig_nbformat": 4
 },
 "nbformat": 4,
 "nbformat_minor": 2
}
