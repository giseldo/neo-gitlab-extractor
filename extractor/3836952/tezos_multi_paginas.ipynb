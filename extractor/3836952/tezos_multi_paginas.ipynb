{
 "cells": [
  {
   "cell_type": "code",
   "execution_count": 1,
   "metadata": {},
   "outputs": [],
   "source": [
    "#!pip install requests\n",
    "\n",
    "import requests"
   ]
  },
  {
   "cell_type": "code",
   "execution_count": 2,
   "metadata": {},
   "outputs": [],
   "source": [
    "nome_projeto = 'tezos%2Ftezos'\n",
    "per_page = 100\n",
    "pagina = 1\n",
    "url = 'https://gitlab.com/api/v4/projects/{}/issues?id={}&order_by=created_at&page={}&per_page={}&sort=desc&state=closed&weight=Any&with_labels_details=false'.format(nome_projeto, nome_projeto, pagina, per_page)\n",
    "\n",
    "response = requests.head(url)\n",
    "\n",
    "links = response.headers['link']"
   ]
  },
  {
   "cell_type": "code",
   "execution_count": 7,
   "metadata": {},
   "outputs": [
    {
     "data": {
      "text/plain": [
       "{'next': 'https://gitlab.com/api/v4/projects/tezos%2Ftezos/issues?id=tezos%2Ftezos&order_by=created_at&page=2&per_page=100&sort=desc&state=closed&weight=Any&with_labels_details=false',\n",
       " 'first': 'https://gitlab.com/api/v4/projects/tezos%2Ftezos/issues?id=tezos%2Ftezos&order_by=created_at&page=1&per_page=100&sort=desc&state=closed&weight=Any&with_labels_details=false',\n",
       " 'last': 'https://gitlab.com/api/v4/projects/tezos%2Ftezos/issues?id=tezos%2Ftezos&order_by=created_at&page=2&per_page=100&sort=desc&state=closed&weight=Any&with_labels_details=false'}"
      ]
     },
     "execution_count": 7,
     "metadata": {},
     "output_type": "execute_result"
    }
   ],
   "source": [
    "# monta um dicionário com os endereçõs\n",
    "\n",
    "lista_url =list()\n",
    "\n",
    "df = dict()\n",
    "\n",
    "for l in links.split(\",\"):\n",
    "    ls = l.split(\";\")\n",
    "    url = ls[0].replace(\" \", \"\").removeprefix(\"<\").removesuffix(\">\")\n",
    "    typ = ls[1].replace(\"rel=\", \"\").replace(\"\\\"\",\"\").replace(\" \", \"\")\n",
    "    df[typ] = url\n",
    "\n",
    "df"
   ]
  },
  {
   "cell_type": "code",
   "execution_count": 9,
   "metadata": {},
   "outputs": [
    {
     "data": {
      "text/plain": [
       "'/home/giseldo/Projetos/gigi-gitlab-extractor/extractor/src_tezos'"
      ]
     },
     "execution_count": 9,
     "metadata": {},
     "output_type": "execute_result"
    }
   ],
   "source": [
    "import os\n",
    "os.getcwd()"
   ]
  },
  {
   "cell_type": "code",
   "execution_count": null,
   "metadata": {},
   "outputs": [],
   "source": [
    "url_nex = lista_url[0]\n",
    "url_actual = lista_url[1]\n",
    "url_last = lista_url[2]"
   ]
  }
 ],
 "metadata": {
  "kernelspec": {
   "display_name": "Python 3",
   "language": "python",
   "name": "python3"
  },
  "language_info": {
   "codemirror_mode": {
    "name": "ipython",
    "version": 3
   },
   "file_extension": ".py",
   "mimetype": "text/x-python",
   "name": "python",
   "nbconvert_exporter": "python",
   "pygments_lexer": "ipython3",
   "version": "3.10.6"
  },
  "orig_nbformat": 4,
  "vscode": {
   "interpreter": {
    "hash": "d3e10ef16274dd72e574b8fa73b58450b957d8421a2901baded3cca26fcf5dda"
   }
  }
 },
 "nbformat": 4,
 "nbformat_minor": 2
}
